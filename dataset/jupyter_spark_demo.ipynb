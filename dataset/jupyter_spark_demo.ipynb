{
 "cells": [
  {
   "cell_type": "code",
   "execution_count": 1,
   "metadata": {
    "collapsed": false,
    "deletable": true,
    "editable": true
   },
   "outputs": [
    {
     "name": "stdout",
     "output_type": "stream",
     "text": [
      "+--------------------+----------------+----------+-----------+--------------+------+--------------------+--------------------+---------------------+---------------------+---------------------+------------------------------------+------------------------------------+----------------------+-------------------------------------+-------------------------------------+---------------+------------------------------+------------------------------+--------------------------+-----------------------+--------------------+---------------------+---------------------------+----------------------------+------------------------+------------------------------+------------------------------+--------------------+--------------+--------------------+--------------------+---------------------------------+---------------------------------+----------------------------+----------------------------+------------------------+------------------------------+-------------------------------+---------------------------+--------------------------+--------------------------+------------------+----------------------+----------------------+-------------------+\n",
      "|     contract-number|amendment-number|award-date|expiry-date|contract-value|  gsin| gsin-description_en| gsin-description_fr|competitive-tender_en|competitive-tender_fr|limited-tender-reason|limited-tender-reason-description_en|limited-tender-reason-description_fr|solicitation-procedure|solicitation-procedure-description_en|solicitation-procedure-description_fr|trade-agreement|trade-agreement-description_en|trade-agreement-description_fr|supplier-standardized-name|supplier-operating-name| supplier-legal-name|supplier-address-city|supplier-address-prov-state|supplier-address-postal-code|supplier-address-country|organization-employee-count_en|organization-employee-count_fr|total-contract-value|number-records|  end-user-entity_en|  end-user-entity_fr|contracting-entity-office-name_en|contracting-entity-office-name_fr|contracting-address-street-1|contracting-address-street-2|contracting-address-city|contracting-address-prov-state|contracting-address-postal-code|contracting-address-country|procurement-entity-name_en|procurement-entity-name_fr|country-percentage|country-description_en|country-description_fr|date-file-published|\n",
      "+--------------------+----------------+----------+-----------+--------------+------+--------------------+--------------------+---------------------+---------------------+---------------------+------------------------------------+------------------------------------+----------------------+-------------------------------------+-------------------------------------+---------------+------------------------------+------------------------------+--------------------------+-----------------------+--------------------+---------------------+---------------------------+----------------------------+------------------------+------------------------------+------------------------------+--------------------+--------------+--------------------+--------------------+---------------------------------+---------------------------------+----------------------------+----------------------------+------------------------+------------------------------+-------------------------------+---------------------------+--------------------------+--------------------------+------------------+----------------------+----------------------+-------------------+\n",
      "| F2599-090025/001/MD|             000|2009-06-16| 2009-10-20|      30174.00| N1990|Vessels, Miscella...|      Bateaux divers|                  Yes|                  Oui|                 null|                                 N/A|                                 N/D|                    OB|                         Open Bidding|                   Invitation Ouverte|              I|          Canadian Free Tra...|          Accord de libre-é...|       ABCO INDUSTRIES LTD|   ABCO Industries L...|ABCO Industries L...|            Lunenburg|                Nova Scotia|                      B0J2C0|                  Canada|            10 to 19 employees|              10 à 19 employés|            61964.00|             3|Fisheries and Oce...|Pêches et Océans ...|             CCG CENTRAL&ARCTI...|                              N/D|          MARINE ENGINEERING|              520 EXMOUTH ST|                  SARNIA|                       Ontario|                         N7T8B1|                     Canada|      Public Works and ...|      Travaux publics e...|              null|                  null|                  null|2018-03-20 21:45:11|\n",
      "| F2599-090025/001/MD|             001|2009-07-15| 2009-10-20|       4876.00| N1990|Vessels, Miscella...|      Bateaux divers|                  Yes|                  Oui|                 null|                                 N/A|                                 N/D|                    OB|                         Open Bidding|                   Invitation Ouverte|              I|          Canadian Free Tra...|          Accord de libre-é...|       ABCO INDUSTRIES LTD|   ABCO Industries L...|ABCO Industries L...|            Lunenburg|                Nova Scotia|                      B0J2C0|                  Canada|            10 to 19 employees|              10 à 19 employés|            61964.00|             3|Fisheries and Oce...|Pêches et Océans ...|             CCG CENTRAL&ARCTI...|                              N/D|          MARINE ENGINEERING|              520 EXMOUTH ST|                  SARNIA|                       Ontario|                         N7T8B1|                     Canada|      Public Works and ...|      Travaux publics e...|              null|                  null|                  null|2018-03-20 21:45:11|\n",
      "| F2599-090025/001/MD|             002|2009-07-20| 2009-10-20|      26914.00| N1990|Vessels, Miscella...|      Bateaux divers|                  Yes|                  Oui|                 null|                                 N/A|                                 N/D|                    OB|                         Open Bidding|                   Invitation Ouverte|              I|          Canadian Free Tra...|          Accord de libre-é...|       ABCO INDUSTRIES LTD|   ABCO Industries L...|ABCO Industries L...|            Lunenburg|                Nova Scotia|                      B0J2C0|                  Canada|            10 to 19 employees|              10 à 19 employés|            61964.00|             3|Fisheries and Oce...|Pêches et Océans ...|             CCG CENTRAL&ARCTI...|                              N/D|          MARINE ENGINEERING|              520 EXMOUTH ST|                  SARNIA|                       Ontario|                         N7T8B1|                     Canada|      Public Works and ...|      Travaux publics e...|              null|                  null|                  null|2018-03-20 21:45:11|\n",
      "| E60LP-090002/392/LP|             000|2010-01-01| 2010-12-31|      25000.00| V502B|Hotels, Motels an...|Hôtels, motels et...|                  Yes|                  Oui|                 null|                                 N/A|                                 N/D|                    OB|                         Open Bidding|                   Invitation Ouverte|              X|                   WTO-AGP/AIT|                   OMC-AMP/ACI|      BEST WESTERN PLUS...|   BEST WESTERN PLUS...|  Abercorn Inns Ltd.|             Richmond|           British Columbia|                      V6X1S1|                  Canada|            50 to 99 employees|              50 à 99 employés|            25000.00|             1|Public Works and ...|Travaux publics e...|             CONSOLIDATED PROC...|                              N/D|             PORTAGE III 7B3|               11 LAURIER ST|                GATINEAU|                        Quebec|                         K1A0S5|                     Canada|      Public Works and ...|      Travaux publics e...|              null|                  null|                  null|2018-03-20 21:45:11|\n",
      "| E60LP-110001/050/LP|             000|2012-01-01| 2012-12-31|      25000.00| V502B|Hotels, Motels an...|Hôtels, motels et...|                  Yes|                  Oui|                 null|                                 N/A|                                 N/D|                    OB|                         Open Bidding|                   Invitation Ouverte|              X|                   WTO-AGP/AIT|                   OMC-AMP/ACI|      BEST WESTERN PLUS...|   BEST WESTERN PLUS...|  Abercorn Inns Ltd.|             Richmond|           British Columbia|                      V6X1S1|                  Canada|            50 to 99 employees|              50 à 99 employés|            25000.00|             1|Public Works and ...|Travaux publics e...|             CONSOLIDATED PROC...|                              N/D|             PORTAGE III 7B3|               11 LAURIER ST|                GATINEAU|                        Quebec|                         K1A0S5|                     Canada|      Public Works and ...|      Travaux publics e...|              null|                  null|                  null|2018-03-20 21:45:11|\n",
      "| E60LP-100001/052/LP|             000|2011-01-01| 2011-12-31|      25000.00| V502B|Hotels, Motels an...|Hôtels, motels et...|                  Yes|                  Oui|                 null|                                 N/A|                                 N/D|                    OB|                         Open Bidding|                   Invitation Ouverte|              X|                   WTO-AGP/AIT|                   OMC-AMP/ACI|      BEST WESTERN PLUS...|   BEST WESTERN PLUS...|  Abercorn Inns Ltd.|             Richmond|           British Columbia|                      V6X1S1|                  Canada|            50 to 99 employees|              50 à 99 employés|            25000.00|             1|Public Works and ...|Travaux publics e...|             CONSOLIDATED PROC...|                              N/D|             PORTAGE III 7B3|               11 LAURIER ST|                GATINEAU|                        Quebec|                         K1A0S5|                     Canada|      Public Works and ...|      Travaux publics e...|              null|                  null|                  null|2018-03-20 21:45:11|\n",
      "|F1719-090011/001/VIC|             000|2009-04-17| 2009-09-23|     145400.00| V201A|Fixed Wing Aircra...|Affrètement aéron...|                  Yes|                  Oui|                 null|                                 N/A|                                 N/D|                    OB|                         Open Bidding|                   Invitation Ouverte|              I|          Canadian Free Tra...|          Accord de libre-é...|      AIR NORTH YUKONS ...|   Air North Yukon's...|AIR NORTH CHARTER...|           Whitehorse|                      Yukon|                      Y1A6E6|                  Canada|          100 to 199 employees|            100 à 199 employés|                0.00|             3|Fisheries and Oce...|Pêches et Océans ...|                CCG BUS OPER SERV|                              N/D|        SUPERVISOR LOGISTICS|                 25 HURON ST|                VICTORIA|              British Columbia|                         V8V4V9|                     Canada|      Public Works and ...|      Travaux publics e...|              null|                  null|                  null|2018-03-20 21:45:11|\n",
      "|F1719-090011/001/VIC|             001|2009-04-17| 2009-09-23|          0.00| V201A|Fixed Wing Aircra...|Affrètement aéron...|                  Yes|                  Oui|                 null|                                 N/A|                                 N/D|                    OB|                         Open Bidding|                   Invitation Ouverte|              I|          Canadian Free Tra...|          Accord de libre-é...|      AIR NORTH YUKONS ...|   Air North Yukon's...|AIR NORTH CHARTER...|           Whitehorse|                      Yukon|                      Y1A6E6|                  Canada|          100 to 199 employees|            100 à 199 employés|                0.00|             3|Fisheries and Oce...|Pêches et Océans ...|                CCG BUS OPER SERV|                              N/D|        SUPERVISOR LOGISTICS|                 25 HURON ST|                VICTORIA|              British Columbia|                         V8V4V9|                     Canada|      Public Works and ...|      Travaux publics e...|              null|                  null|                  null|2018-03-20 21:45:11|\n",
      "|F1719-090011/001/VIC|             T01|2009-07-21| 2009-09-22|    -145400.00| V201A|Fixed Wing Aircra...|Affrètement aéron...|                  Yes|                  Oui|                 null|                                 N/A|                                 N/D|                    OB|                         Open Bidding|                   Invitation Ouverte|              I|          Canadian Free Tra...|          Accord de libre-é...|      AIR NORTH YUKONS ...|   Air North Yukon's...|AIR NORTH CHARTER...|           Whitehorse|                      Yukon|                      Y1A6E6|                  Canada|          100 to 199 employees|            100 à 199 employés|                0.00|             3|Fisheries and Oce...|Pêches et Océans ...|                CCG BUS OPER SERV|                              N/D|        SUPERVISOR LOGISTICS|                 25 HURON ST|                VICTORIA|              British Columbia|                         V8V4V9|                     Canada|      Public Works and ...|      Travaux publics e...|              null|                  null|                  null|2018-03-20 21:45:11|\n",
      "| F5957-090148/001/QF|             000|2010-03-03| 2010-06-30|      42000.00| N5845|Underwater Sound ...|Équipement de dét...|                   No|                  Non|                   71|                    Exclusive Rights|                    Droits exclusifs|                    TN|                 Traditional Non-C...|                 Méthode non concu...|              I|          Canadian Free Tra...|          Accord de libre-é...|      FLOATATION TECHNO...|   FLOATATION TECHNO...|                 N/A|           BIDDEFORDE|                      Maine|                       04005|           United States|                       UNKNOWN|                       INCONNU|            42940.00|             2|Fisheries and Oce...|Pêches et Océans ...|             OCEANOGRAPHY & CL...|                              N/D|        BEDFORD INST.OCEA...|          1 CHALLENGER DRIVE|               DARTMOUTH|                   Nova Scotia|                         B2Y4A2|                     Canada|      Public Works and ...|      Travaux publics e...|              null|                  null|                  null|2018-03-20 21:45:11|\n",
      "| F5957-090148/001/QF|             001|2010-03-04| 2010-06-30|        940.00| N5845|Underwater Sound ...|Équipement de dét...|                   No|                  Non|                   71|                    Exclusive Rights|                    Droits exclusifs|                    TN|                 Traditional Non-C...|                 Méthode non concu...|              I|          Canadian Free Tra...|          Accord de libre-é...|      FLOATATION TECHNO...|   FLOATATION TECHNO...|                 N/A|           BIDDEFORDE|                      Maine|                       04005|           United States|                       UNKNOWN|                       INCONNU|            42940.00|             2|Fisheries and Oce...|Pêches et Océans ...|             OCEANOGRAPHY & CL...|                              N/D|        BEDFORD INST.OCEA...|          1 CHALLENGER DRIVE|               DARTMOUTH|                   Nova Scotia|                         B2Y4A2|                     Canada|      Public Works and ...|      Travaux publics e...|              null|                  null|                  null|2018-03-20 21:45:11|\n",
      "|EC016-110690/001/PWB|             000|2010-09-21| 2011-02-08|     287743.00| 5161B|Heating, Ventilat...|Services d'inspec...|                   No|                  Non|                   71|                    Exclusive Rights|                    Droits exclusifs|                    TN|                 Traditional Non-C...|                 Méthode non concu...|              I|          Agreement on Inte...|          Accord sur le com...|      ADVANCED ENERGY M...|   Advanced Energy M...|Advanced Energy M...|           Moncton NB|              New Brunswick|                      E1E4C7|                  Canada|            50 to 99 employees|              50 à 99 employés|           287743.00|             1|Public Works and ...|Travaux publics e...|                A&ES MGR CSC PRGM|                              N/D|                     3RD FL.|                1045 MAIN ST|                 MONCTON|                 New Brunswick|                         E1C1H1|                     Canada|      Public Works and ...|      Travaux publics e...|              null|                  null|                  null|2018-03-20 21:45:11|\n",
      "| W8484-10Q080/001/EE|             000|2009-10-02| 2010-10-01|       8570.00| N7030|        ADP Software|        Logiciel TAI|                   No|                  Non|                   71|                    Exclusive Rights|                    Droits exclusifs|                    TN|                 Traditional Non-C...|                 Méthode non concu...|             00|                          NONE|                        AUCUNE|      SAE INTERNATIONAL...|   SAE INTERNATIONAL...|SAE International...|           WARRENDALE|               Pennsylvania|                  15096-0001|           United States|                       UNKNOWN|                       INCONNU|             8570.00|             1|Department of Nat...|Ministère de la d...|                             NDHQ|                             QGDN|          101 COLONEL BY DR.|                         N/A|                  OTTAWA|                       Ontario|                         K1A0K2|                     Canada|      Public Works and ...|      Travaux publics e...|              null|                  null|                  null|2018-03-20 21:45:11|\n",
      "| W8484-10Q144/001/EE|             000|2010-02-19| 2010-12-31|      11024.00| N7030|        ADP Software|        Logiciel TAI|                   No|                  Non|                   71|                    Exclusive Rights|                    Droits exclusifs|                    TN|                 Traditional Non-C...|                 Méthode non concu...|              C|          NAFTA / CFTA / FT...|          ALÉNA / ALEC / AL...|          ACL SERVICES LTD|      ACL Services Ltd.|   ACL Services Ltd.|            Vancouver|           British Columbia|                      V6G1A5|                  Canada|          100 to 199 employees|            100 à 199 employés|            34752.00|             3|Department of Nat...|Ministère de la d...|                             NDHQ|                             QGDN|          101 COLONEL BY DR.|                         N/A|                  OTTAWA|                       Ontario|                         K1A0K2|                     Canada|      Public Works and ...|      Travaux publics e...|              null|                  null|                  null|2018-03-20 21:45:11|\n",
      "| W8484-10Q144/001/EE|             001|2010-12-23| 2011-12-31|      11864.00| N7030|        ADP Software|        Logiciel TAI|                   No|                  Non|                   71|                    Exclusive Rights|                    Droits exclusifs|                    TN|                 Traditional Non-C...|                 Méthode non concu...|              C|          NAFTA / CFTA / FT...|          ALÉNA / ALEC / AL...|          ACL SERVICES LTD|      ACL Services Ltd.|   ACL Services Ltd.|            Vancouver|           British Columbia|                      V6G1A5|                  Canada|          100 to 199 employees|            100 à 199 employés|            34752.00|             3|Department of Nat...|Ministère de la d...|                             NDHQ|                             QGDN|          101 COLONEL BY DR.|                         N/A|                  OTTAWA|                       Ontario|                         K1A0K2|                     Canada|      Public Works and ...|      Travaux publics e...|              null|                  null|                  null|2018-03-20 21:45:11|\n",
      "| E60PH-10DRUG/003/PH|             000|2010-10-04| 2011-06-30|     244333.00| N6505|Drugs and Biologi...|Produits pharmace...|                  Yes|                  Oui|                 null|                                 N/A|                                 N/D|                    AC|                                 ACAN|                 PAC (Pré-avis d'a...|              I|          Canadian Free Tra...|          Accord de libre-é...|       ABBOTT LABORATORIES|    Abbott Laboratories|Abbott Laboratori...|          St. Laurent|                     Quebec|                      H4S1Z1|                  Canada|          200 to 499 employees|            200 à 499 employés|           676499.00|             8|Public Works and ...|Travaux publics e...|             CONSOLIDATED PROC...|                              N/D|             PORTAGE III 6B1|               11 LAURIER ST|                GATINEAU|                        Quebec|                         K1A0S5|                     Canada|      Public Works and ...|      Travaux publics e...|              null|                  null|                  null|2018-03-20 21:45:11|\n",
      "| E60PH-10DRUG/003/PH|             001|2010-10-06| 2011-06-30|          0.00| N6505|Drugs and Biologi...|Produits pharmace...|                  Yes|                  Oui|                 null|                                 N/A|                                 N/D|                    AC|                                 ACAN|                 PAC (Pré-avis d'a...|              I|          Canadian Free Tra...|          Accord de libre-é...|       ABBOTT LABORATORIES|    Abbott Laboratories|Abbott Laboratori...|          St. Laurent|                     Quebec|                      H4S1Z1|                  Canada|          200 to 499 employees|            200 à 499 employés|           676499.00|             8|Public Works and ...|Travaux publics e...|             CONSOLIDATED PROC...|                              N/D|             PORTAGE III 6B1|               11 LAURIER ST|                GATINEAU|                        Quebec|                         K1A0S5|                     Canada|      Public Works and ...|      Travaux publics e...|              null|                  null|                  null|2018-03-20 21:45:11|\n",
      "| E60PH-10DRUG/003/PH|             002|2010-10-07| 2011-06-30|          0.00| N6505|Drugs and Biologi...|Produits pharmace...|                  Yes|                  Oui|                 null|                                 N/A|                                 N/D|                    AC|                                 ACAN|                 PAC (Pré-avis d'a...|              I|          Canadian Free Tra...|          Accord de libre-é...|       ABBOTT LABORATORIES|    Abbott Laboratories|Abbott Laboratori...|          St. Laurent|                     Quebec|                      H4S1Z1|                  Canada|          200 to 499 employees|            200 à 499 employés|           676499.00|             8|Public Works and ...|Travaux publics e...|             CONSOLIDATED PROC...|                              N/D|             PORTAGE III 6B1|               11 LAURIER ST|                GATINEAU|                        Quebec|                         K1A0S5|                     Canada|      Public Works and ...|      Travaux publics e...|              null|                  null|                  null|2018-03-20 21:45:11|\n",
      "|W8486-122224/001/BLB|             000|2012-05-11| 2013-04-30|     600000.00|JX2540|Vehicular Furnitu...|Accessoires et ga...|                   No|                  Non|                   71|                    Exclusive Rights|                    Droits exclusifs|                    TN|                 Traditional Non-C...|                 Méthode non concu...|              Y|          CETA / WTO-AGP / ...|          AECG / OMC-AMP / ...|      ADVANCE ENGINEERE...|   Advance Engineere...|Advance Engineere...|               Regina|               Saskatchewan|                      S4N5P7|                  Canada|          500 to 999 employees|          500  à  999 employés|          1120000.00|             7|Department of Nat...|Ministère de la d...|                      NDHQ DGLEPM|                              N/D|          101 COLONEL BY DR.|                         N/A|                  OTTAWA|                       Ontario|                         K1A0K2|                     Canada|      Public Works and ...|      Travaux publics e...|              null|                  null|                  null|2018-03-20 21:45:11|\n",
      "|W8486-122224/001/BLB|             001|2012-06-21| 2013-04-30|          0.00|JX2540|Vehicular Furnitu...|Accessoires et ga...|                   No|                  Non|                   71|                    Exclusive Rights|                    Droits exclusifs|                    TN|                 Traditional Non-C...|                 Méthode non concu...|              Y|          CETA / WTO-AGP / ...|          AECG / OMC-AMP / ...|      ADVANCE ENGINEERE...|   Advance Engineere...|Advance Engineere...|               Regina|               Saskatchewan|                      S4N5P7|                  Canada|          500 to 999 employees|          500  à  999 employés|          1120000.00|             7|Department of Nat...|Ministère de la d...|                      NDHQ DGLEPM|                              N/D|          101 COLONEL BY DR.|                         N/A|                  OTTAWA|                       Ontario|                         K1A0K2|                     Canada|      Public Works and ...|      Travaux publics e...|              null|                  null|                  null|2018-03-20 21:45:11|\n",
      "+--------------------+----------------+----------+-----------+--------------+------+--------------------+--------------------+---------------------+---------------------+---------------------+------------------------------------+------------------------------------+----------------------+-------------------------------------+-------------------------------------+---------------+------------------------------+------------------------------+--------------------------+-----------------------+--------------------+---------------------+---------------------------+----------------------------+------------------------+------------------------------+------------------------------+--------------------+--------------+--------------------+--------------------+---------------------------------+---------------------------------+----------------------------+----------------------------+------------------------+------------------------------+-------------------------------+---------------------------+--------------------------+--------------------------+------------------+----------------------+----------------------+-------------------+\n",
      "only showing top 20 rows\n",
      "\n",
      "None\n"
     ]
    }
   ],
   "source": [
    "%matplotlib inline\n",
    "from __future__ import print_function\n",
    "\n",
    "import sys\n",
    "from operator import add\n",
    "import os\n",
    "\n",
    "from pyspark.sql import SparkSession\n",
    "\n",
    "\n",
    "if __name__ == \"__main__\":\n",
    "    spark = SparkSession\\\n",
    "        .builder\\\n",
    "        .appName(\"PythonWordCount\")\\\n",
    "        .getOrCreate()\n",
    "\n",
    "    # textfile = spark.read.text(\"data/comptagevelo2009.csv\")\n",
    "    df = spark.read.csv(\"data/tpsgc-pwgsc_co-ch_tous-all.csv\", header=True)\n",
    "    print(df.show())\n",
    "  "
   ]
  },
  {
   "cell_type": "code",
   "execution_count": 2,
   "metadata": {
    "collapsed": false,
    "deletable": true,
    "editable": true
   },
   "outputs": [
    {
     "name": "stdout",
     "output_type": "stream",
     "text": [
      "['contract-number', 'amendment-number', 'award-date', 'expiry-date', 'contract-value', 'gsin', 'gsin-description_en', 'gsin-description_fr', 'competitive-tender_en', 'competitive-tender_fr', 'limited-tender-reason', 'limited-tender-reason-description_en', 'limited-tender-reason-description_fr', 'solicitation-procedure', 'solicitation-procedure-description_en', 'solicitation-procedure-description_fr', 'trade-agreement', 'trade-agreement-description_en', 'trade-agreement-description_fr', 'supplier-standardized-name', 'supplier-operating-name', 'supplier-legal-name', 'supplier-address-city', 'supplier-address-prov-state', 'supplier-address-postal-code', 'supplier-address-country', 'organization-employee-count_en', 'organization-employee-count_fr', 'total-contract-value', 'number-records', 'end-user-entity_en', 'end-user-entity_fr', 'contracting-entity-office-name_en', 'contracting-entity-office-name_fr', 'contracting-address-street-1', 'contracting-address-street-2', 'contracting-address-city', 'contracting-address-prov-state', 'contracting-address-postal-code', 'contracting-address-country', 'procurement-entity-name_en', 'procurement-entity-name_fr', 'country-percentage', 'country-description_en', 'country-description_fr', 'date-file-published']\n"
     ]
    }
   ],
   "source": [
    "print(df.columns)"
   ]
  },
  {
   "cell_type": "code",
   "execution_count": 3,
   "metadata": {
    "collapsed": false,
    "deletable": true,
    "editable": true
   },
   "outputs": [],
   "source": [
    "supplier = df.select(\"supplier-standardized-name\",\"supplier-address-postal-code\")\n",
    "\n"
   ]
  },
  {
   "cell_type": "code",
   "execution_count": 4,
   "metadata": {
    "collapsed": false,
    "deletable": true,
    "editable": true
   },
   "outputs": [
    {
     "name": "stdout",
     "output_type": "stream",
     "text": [
      "+--------------------------+----------------------------+\n",
      "|supplier-standardized-name|supplier-address-postal-code|\n",
      "+--------------------------+----------------------------+\n",
      "|       ABCO INDUSTRIES LTD|                      B0J2C0|\n",
      "|       ABCO INDUSTRIES LTD|                      B0J2C0|\n",
      "|       ABCO INDUSTRIES LTD|                      B0J2C0|\n",
      "|      BEST WESTERN PLUS...|                      V6X1S1|\n",
      "|      BEST WESTERN PLUS...|                      V6X1S1|\n",
      "|      BEST WESTERN PLUS...|                      V6X1S1|\n",
      "|      AIR NORTH YUKONS ...|                      Y1A6E6|\n",
      "|      AIR NORTH YUKONS ...|                      Y1A6E6|\n",
      "|      AIR NORTH YUKONS ...|                      Y1A6E6|\n",
      "|      FLOATATION TECHNO...|                       04005|\n",
      "|      FLOATATION TECHNO...|                       04005|\n",
      "|      ADVANCED ENERGY M...|                      E1E4C7|\n",
      "|      SAE INTERNATIONAL...|                  15096-0001|\n",
      "|          ACL SERVICES LTD|                      V6G1A5|\n",
      "|          ACL SERVICES LTD|                      V6G1A5|\n",
      "|       ABBOTT LABORATORIES|                      H4S1Z1|\n",
      "|       ABBOTT LABORATORIES|                      H4S1Z1|\n",
      "|       ABBOTT LABORATORIES|                      H4S1Z1|\n",
      "|      ADVANCE ENGINEERE...|                      S4N5P7|\n",
      "|      ADVANCE ENGINEERE...|                      S4N5P7|\n",
      "+--------------------------+----------------------------+\n",
      "only showing top 20 rows\n",
      "\n"
     ]
    }
   ],
   "source": [
    "supplier.show()"
   ]
  },
  {
   "cell_type": "code",
   "execution_count": 5,
   "metadata": {
    "collapsed": false,
    "deletable": true,
    "editable": true
   },
   "outputs": [
    {
     "name": "stdout",
     "output_type": "stream",
     "text": [
      "+-------+--------------------------+----------------------------+\n",
      "|summary|supplier-standardized-name|supplier-address-postal-code|\n",
      "+-------+--------------------------+----------------------------+\n",
      "|  count|                    358666|                      358666|\n",
      "|   mean|      3.8976099333333336E7|        1.2138194957020719E7|\n",
      "| stddev|        6.75051791142971E7|        1.1108794390073177E8|\n",
      "|    min|       (DBA) J CHADWICK CO|                      00-132|\n",
      "|    25%|                    1966.0|                     21090.0|\n",
      "|    50%|                    1966.0|                     52532.0|\n",
      "|    75%|              1.16924366E8|                     89511.0|\n",
      "|    max|      ÆSIR INTERNATIONA...|                      r3c4w7|\n",
      "+-------+--------------------------+----------------------------+\n",
      "\n"
     ]
    }
   ],
   "source": [
    "supplier.summary().show()"
   ]
  },
  {
   "cell_type": "code",
   "execution_count": 6,
   "metadata": {
    "collapsed": false,
    "deletable": true,
    "editable": true
   },
   "outputs": [],
   "source": [
    "gdf_postal_code = supplier.groupBy(\"supplier-address-postal-code\")\n",
    "group_by_postal_code = sorted(gdf_postal_code.count().collect())"
   ]
  },
  {
   "cell_type": "code",
   "execution_count": 30,
   "metadata": {
    "collapsed": false,
    "deletable": true,
    "editable": true
   },
   "outputs": [],
   "source": [
    "supplier_pandas = supplier.toPandas()\n",
    "supplier_sampled = spark.createDataFrame(supplier.head(1000), schema=supplier.schema).toPandas()\n"
   ]
  },
  {
   "cell_type": "code",
   "execution_count": 18,
   "metadata": {
    "collapsed": false
   },
   "outputs": [
    {
     "data": {
      "image/png": "[encoded data removed]",
      "text/plain": [
       "<Figure size 432x288 with 1 Axes>"
      ]
     },
     "metadata": {},
     "output_type": "display_data"
    }
   ],
   "source": [
    " fig, ax = plt.subplots(1, 1)"
   ]
  },
  {
   "cell_type": "code",
   "execution_count": 29,
   "metadata": {
    "collapsed": false,
    "deletable": true,
    "editable": true
   },
   "outputs": [
    {
     "data": {
      "text/plain": [
       "<matplotlib.axes._subplots.AxesSubplot at 0x7f7a951d57f0>"
      ]
     },
     "execution_count": 29,
     "metadata": {},
     "output_type": "execute_result"
    },
    {
     "data": {
      "image/png": "[encoded data removed]",
      "text/plain": [
       "<Figure size 1080x504 with 1 Axes>"
      ]
     },
     "metadata": {},
     "output_type": "display_data"
    }
   ],
   "source": [
    "fig, ax = plt.subplots(figsize=(15,7))\n",
    "supplier_pandas.groupby(['supplier-address-postal-code']).count().plot(ax=ax,)"
   ]
  },
  {
   "cell_type": "code",
   "execution_count": null,
   "metadata": {
    "collapsed": true,
    "deletable": true,
    "editable": true
   },
   "outputs": [],
   "source": []
  },
  {
   "cell_type": "code",
   "execution_count": null,
   "metadata": {
    "collapsed": true,
    "deletable": true,
    "editable": true
   },
   "outputs": [],
   "source": []
  },
  {
   "cell_type": "code",
   "execution_count": null,
   "metadata": {
    "collapsed": true,
    "deletable": true,
    "editable": true
   },
   "outputs": [],
   "source": []
  },
  {
   "cell_type": "code",
   "execution_count": null,
   "metadata": {
    "collapsed": true,
    "deletable": true,
    "editable": true
   },
   "outputs": [],
   "source": []
  },
  {
   "cell_type": "code",
   "execution_count": null,
   "metadata": {
    "collapsed": true,
    "deletable": true,
    "editable": true
   },
   "outputs": [],
   "source": []
  },
  {
   "cell_type": "code",
   "execution_count": null,
   "metadata": {
    "collapsed": true,
    "deletable": true,
    "editable": true
   },
   "outputs": [],
   "source": []
  },
  {
   "cell_type": "code",
   "execution_count": null,
   "metadata": {
    "collapsed": true,
    "deletable": true,
    "editable": true
   },
   "outputs": [],
   "source": []
  },
  {
   "cell_type": "code",
   "execution_count": null,
   "metadata": {
    "collapsed": true,
    "deletable": true,
    "editable": true
   },
   "outputs": [],
   "source": []
  }
 ],
 "metadata": {
  "kernelspec": {
   "display_name": "Python 3",
   "language": "python",
   "name": "python3"
  },
  "language_info": {
   "codemirror_mode": {
    "name": "ipython",
    "version": 3
   },
   "file_extension": ".py",
   "mimetype": "text/x-python",
   "name": "python",
   "nbconvert_exporter": "python",
   "pygments_lexer": "ipython3",
   "version": "3.6.3"
  }
 },
 "nbformat": 4,
 "nbformat_minor": 2
}
